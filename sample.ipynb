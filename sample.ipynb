{
 "cells": [
  {
   "metadata": {},
   "cell_type": "markdown",
   "source": [
    "# Arbres Binaires et Généraux\n",
    "\n",
    "- L’arbre non vide est (une référence sur) un objet de la class BinTree avec 3 attributs : key, left, right."
   ],
   "id": "e4b755e1d158e845"
  },
  {
   "metadata": {
    "ExecuteTime": {
     "end_time": "2025-02-03T14:01:20.856475Z",
     "start_time": "2025-02-03T14:01:20.848557Z"
    }
   },
   "cell_type": "code",
   "source": [
    "class BinTree :\n",
    "    def __init__ ( self , key , left , right ) :\n",
    "        self.key = key\n",
    "        self.left = left\n",
    "        self.right = right"
   ],
   "id": "2ad57a798e047ed9",
   "outputs": [],
   "execution_count": 3
  },
  {
   "metadata": {},
   "cell_type": "markdown",
   "source": "- L’arbre vide est None",
   "id": "5481a737899b4922"
  },
  {
   "metadata": {},
   "cell_type": "markdown",
   "source": [
    "\n",
    "## 1. Mesures\n",
    "\n",
    "### 1.1 (Taille)\n",
    "\n",
    "#### 1. Donner les axiomes définissant l’opération taille sur le type abstrait arbre binaire.\n",
    "\n",
    "- taille(arbrevide) = 0\n",
    "- taille(<r,G,D>) = 1 + taille(G) taile(D)\n",
    "#### 2. Écrire une fonction qui calcule la taille d’un arbre binaire."
   ],
   "id": "8a77807f92f26ee"
  },
  {
   "metadata": {
    "ExecuteTime": {
     "end_time": "2025-02-03T13:20:59.277602Z",
     "start_time": "2025-02-03T13:20:59.272715Z"
    }
   },
   "cell_type": "code",
   "source": [
    "def taille(arbre : BinTree):\n",
    "    if arbre:\n",
    "        return 1 + taille(arbre[0]) + taille(arbre[1])\n",
    "    else:\n",
    "        return 0"
   ],
   "id": "cf86c0eb598fc61",
   "outputs": [],
   "execution_count": 1
  },
  {
   "metadata": {},
   "cell_type": "markdown",
   "source": [
    "### 1.2 (Hauteur)\n",
    "#### 1. Donner les axiomes définissant l’opération hauteur sur le type abstrait arbre binaire.\n",
    "\n",
    "#### 2. Écrire une fonction qui calcule la hauteur d’un arbre binaire."
   ],
   "id": "9f35870f0b2f0508"
  },
  {
   "metadata": {
    "ExecuteTime": {
     "end_time": "2025-02-03T14:01:23.799378Z",
     "start_time": "2025-02-03T14:01:23.795625Z"
    }
   },
   "cell_type": "code",
   "source": [
    "def hauteur(arbre : BinTree):\n",
    "    if arbre:\n",
    "        return 1 + max(hauteur(arbre.left)+hauteur(arbre.right))\n",
    "    else:\n",
    "        return -1"
   ],
   "id": "4bc25b49499a409c",
   "outputs": [],
   "execution_count": 4
  },
  {
   "metadata": {},
   "cell_type": "markdown",
   "source": [
    "## Parcours\n",
    "\n",
    "### 2.1 (DFS : Parcours profondeur)\n",
    "\n",
    "#### 1. En considérant un parcours en profondeur main gauche de l’arbre de la figure  donner la liste des nœuds pour chacun des trois ordres induits.\n",
    "\n",
    "- Préfixe : VDIQUSETIERATS\n",
    "- Infixe :  QUID EST VERITAS\n",
    "- Suffixe : UQIETSDRETSAIV\n",
    "\n",
    "#### 2. Écrire une fonction qui affiche un arbre binaire sous la forme <r, G, D>, avec _ pour représenter l’arbre vide.\n",
    "\n",
    "< V, < D, < I, < Q, _, < U, _, _ > > _ >, < S, < E, _, _ >, < T, _, _ > >, < I, < E, _, < R, _, _ > >, < A, < T, _, _ >, < S, _, _ > > > >\n",
    "\n",
    "#### 3. Écrire une fonction qui affiche un arbre binaire sous la forme <r, G, D>, avec _ pour représenter l’arbre vide."
   ],
   "id": "d558059bd3e91cf5"
  },
  {
   "metadata": {},
   "cell_type": "code",
   "outputs": [],
   "execution_count": null,
   "source": [
    "def affichage(arbre : BinTree):\n",
    "    if arbre:\n",
    "        return f\"{arbre.key},{arbre.left},{arbre.right}\"\n",
    "    else:\n",
    "        return \"_\""
   ],
   "id": "ae5f182dd591fa8f"
  },
  {
   "metadata": {},
   "cell_type": "markdown",
   "source": [
    "### Exercice 2.2 (BFS : Parcours largeur)\n",
    "\n",
    "#### 1. Dérouler l’algorithme du parcours largeur sur l’arbre de la figure.\n",
    "\n",
    "V D I I S E A Q E T R T S U\n",
    "\n",
    "#### 2. Écrire une fonction qui affiche les clés d’un arbre binaire en ordre hiérarchique. Que faut-il modifier pour afficher un niveau par ligne?\n"
   ],
   "id": "37e444b102b59c8d"
  },
  {
   "metadata": {
    "ExecuteTime": {
     "end_time": "2025-02-03T14:21:35.241941Z",
     "start_time": "2025-02-03T14:21:35.233316Z"
    }
   },
   "cell_type": "code",
   "source": [
    "from collections import deque\n",
    "\n",
    "def cles_arbres_hierachique(arbre: BinTree):\n",
    "    if not arbre:\n",
    "        return []\n",
    "\n",
    "    resultat = []\n",
    "    queue = deque([arbre])\n",
    "\n",
    "    while queue:\n",
    "        noeud = queue.popleft()\n",
    "        resultat.append(noeud.key)\n",
    "        if noeud.left:\n",
    "            queue.append(noeud.left)\n",
    "        if noeud.right:\n",
    "            queue.append(noeud.right)\n",
    "\n",
    "    return resultat"
   ],
   "id": "2c85e21326f7d5e2",
   "outputs": [],
   "execution_count": 5
  },
  {
   "metadata": {},
   "cell_type": "markdown",
   "source": "Que faut-il modifier pour afficher un niveau par ligne?",
   "id": "bdd627c120053936"
  },
  {
   "metadata": {},
   "cell_type": "code",
   "outputs": [],
   "execution_count": null,
   "source": [
    "def cles_arbres_par_niveau(arbre: BinTree):\n",
    "    if not arbre:\n",
    "        return []\n",
    "\n",
    "    resultat = []\n",
    "    queue = deque([arbre])\n",
    "\n",
    "    while queue:\n",
    "        niveau = []\n",
    "        while queue:\n",
    "            noeud = queue.popleft()\n",
    "            niveau.append(noeud.key)\n",
    "            if noeud.left:\n",
    "                queue.append(noeud.left)\n",
    "            if noeud.right:\n",
    "                queue.append(noeud.right)\n",
    "        resultat.append(niveau)\n",
    "\n",
    "    return resultat"
   ],
   "id": "d1e241b6f7d11ba1"
  },
  {
   "metadata": {},
   "cell_type": "markdown",
   "source": "",
   "id": "4655d09e528f5d6d"
  }
 ],
 "metadata": {
  "kernelspec": {
   "display_name": "Python 3",
   "language": "python",
   "name": "python3"
  },
  "language_info": {
   "codemirror_mode": {
    "name": "ipython",
    "version": 2
   },
   "file_extension": ".py",
   "mimetype": "text/x-python",
   "name": "python",
   "nbconvert_exporter": "python",
   "pygments_lexer": "ipython2",
   "version": "2.7.6"
  }
 },
 "nbformat": 4,
 "nbformat_minor": 5
}
