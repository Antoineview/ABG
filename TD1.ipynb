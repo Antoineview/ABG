{
 "cells": [
  {
   "metadata": {},
   "cell_type": "markdown",
   "source": [
    "# Arbres Binaires et Généraux\n",
    "\n",
    "- L’arbre non vide est (une référence sur) un objet de la class BinTree avec 3 attributs : key, left, right.\n",
    "- L’arbre vide est None."
   ],
   "id": "e4b755e1d158e845"
  },
  {
   "metadata": {
    "ExecuteTime": {
     "end_time": "2025-02-04T12:42:19.751047Z",
     "start_time": "2025-02-04T12:42:19.744847Z"
    }
   },
   "cell_type": "code",
   "source": [
    "from algo_py import queue\n",
    "from algo_py.bintree import BinTree # to allow to use BinTree instead of bintree.BinTree"
   ],
   "id": "824bb82292bfb901",
   "outputs": [],
   "execution_count": 68
  },
  {
   "metadata": {
    "ExecuteTime": {
     "end_time": "2025-02-04T12:42:19.765263Z",
     "start_time": "2025-02-04T12:42:19.761891Z"
    }
   },
   "cell_type": "code",
   "source": [
    "#Figure 1\n",
    "B_quid = BinTree('V',\n",
    "                BinTree('D',\n",
    "                   BinTree('I',\n",
    "                      BinTree('Q', None,BinTree('U', None,None)),\n",
    "                      None),\n",
    "                   BinTree('S',\n",
    "                      BinTree('E', None,None),\n",
    "                      BinTree('T', None,None))),\n",
    "                BinTree('I',\n",
    "                   BinTree('E',\n",
    "                      None,\n",
    "                      BinTree('R', None,None)),\n",
    "                  BinTree('A',\n",
    "                      BinTree('T', None,None),\n",
    "                      BinTree('S', None,None))))\n",
    "\n",
    "A_quid = BinTree('A',\n",
    "                BinTree('B',\n",
    "                   BinTree('C',None, None),\n",
    "                   BinTree('D', None,None)),\n",
    "                BinTree('E',None,None))\n"
   ],
   "id": "c908194b3161bfb6",
   "outputs": [],
   "execution_count": 69
  },
  {
   "metadata": {},
   "cell_type": "markdown",
   "source": [
    "\n",
    "## 1. Mesures\n",
    "\n",
    "### 1.1 (Taille)\n",
    "\n",
    "#### 1. Donner les axiomes définissant l’opération taille sur le type abstrait arbre binaire.\n",
    "\n",
    "- taille(arbrevide) = 0\n",
    "- taille(<r,G,D>) = 1 + taille(G) taille(D)\n",
    "#### 2. Écrire une fonction qui calcule la taille d’un arbre binaire."
   ],
   "id": "8a77807f92f26ee"
  },
  {
   "metadata": {
    "ExecuteTime": {
     "end_time": "2025-02-04T12:42:19.774872Z",
     "start_time": "2025-02-04T12:42:19.772390Z"
    }
   },
   "cell_type": "code",
   "source": [
    "def taille(arbre : BinTree):\n",
    "    if arbre:\n",
    "        return 1 + taille(arbre.left) + taille(arbre.right)\n",
    "    else:\n",
    "        return 0\n",
    "\n",
    "print(taille(B_quid))"
   ],
   "id": "cf86c0eb598fc61",
   "outputs": [
    {
     "name": "stdout",
     "output_type": "stream",
     "text": [
      "14\n"
     ]
    }
   ],
   "execution_count": 70
  },
  {
   "metadata": {},
   "cell_type": "markdown",
   "source": [
    "### 1.2 (Hauteur)\n",
    "#### 1. Donner les axiomes définissant l’opération hauteur sur le type abstrait arbre binaire.\n",
    "\n",
    "#### 2. Écrire une fonction qui calcule la hauteur d’un arbre binaire."
   ],
   "id": "9f35870f0b2f0508"
  },
  {
   "metadata": {
    "ExecuteTime": {
     "end_time": "2025-02-04T12:42:19.800276Z",
     "start_time": "2025-02-04T12:42:19.796866Z"
    }
   },
   "cell_type": "code",
   "source": [
    "def hauteur(arbre : BinTree):\n",
    "    if arbre:\n",
    "        return 1 + max(hauteur(arbre.left), hauteur(arbre.right))\n",
    "    else:\n",
    "        return -1\n",
    "\n",
    "print(hauteur(B_quid)) # 4"
   ],
   "id": "4bc25b49499a409c",
   "outputs": [
    {
     "name": "stdout",
     "output_type": "stream",
     "text": [
      "4\n"
     ]
    }
   ],
   "execution_count": 71
  },
  {
   "metadata": {},
   "cell_type": "markdown",
   "source": [
    "### 1.3 Exos Bonus\n",
    "#### 1. Nombre de nœuds simples"
   ],
   "id": "3893e1b8058342ea"
  },
  {
   "metadata": {
    "ExecuteTime": {
     "end_time": "2025-02-04T12:42:19.825877Z",
     "start_time": "2025-02-04T12:42:19.823396Z"
    }
   },
   "cell_type": "code",
   "source": [
    "def nombre_noeuds_simples(arbre : BinTree):\n",
    "    if arbre is None:\n",
    "        return 0\n",
    "\n",
    "    simple = 0\n",
    "    if (arbre.left is not None and arbre.right is None) or (arbre.left is None and arbre.right is not None):\n",
    "        simple = 1\n",
    "\n",
    "    return simple + nombre_noeuds_simples(arbre.left) + nombre_noeuds_simples(arbre.right)\n",
    "\n",
    "print(nombre_noeuds_simples(B_quid)) # 3"
   ],
   "id": "c3aceccc05e48270",
   "outputs": [
    {
     "name": "stdout",
     "output_type": "stream",
     "text": [
      "3\n"
     ]
    }
   ],
   "execution_count": 72
  },
  {
   "metadata": {},
   "cell_type": "markdown",
   "source": "#### 2. Nombre de noeuds doubles",
   "id": "f03885fbe8738440"
  },
  {
   "metadata": {
    "ExecuteTime": {
     "end_time": "2025-02-04T12:42:19.850608Z",
     "start_time": "2025-02-04T12:42:19.847693Z"
    }
   },
   "cell_type": "code",
   "source": [
    "def nombre_noeuds_doubles(arbre : BinTree):\n",
    "    if arbre is None:\n",
    "        return 0\n",
    "\n",
    "    double = 0\n",
    "    if arbre.left is not None and arbre.right is not None :\n",
    "        double = 1\n",
    "\n",
    "    return double + nombre_noeuds_doubles(arbre.left) + nombre_noeuds_doubles(arbre.right)\n",
    "\n",
    "print(nombre_noeuds_doubles(B_quid)) # 5"
   ],
   "id": "da285ff266bbfe32",
   "outputs": [
    {
     "name": "stdout",
     "output_type": "stream",
     "text": [
      "5\n"
     ]
    }
   ],
   "execution_count": 73
  },
  {
   "metadata": {},
   "cell_type": "markdown",
   "source": "#### 3. Nombre de feuilles",
   "id": "ad6bfef01f47a069"
  },
  {
   "metadata": {
    "ExecuteTime": {
     "end_time": "2025-02-04T12:42:19.875676Z",
     "start_time": "2025-02-04T12:42:19.872484Z"
    }
   },
   "cell_type": "code",
   "source": [
    "def nombre_feuilles(arbre : BinTree):\n",
    "    if arbre is None:\n",
    "        return 0\n",
    "\n",
    "    feuille = 0\n",
    "    if arbre.left is None and arbre.right is None:\n",
    "        feuille = 1\n",
    "\n",
    "    return feuille + nombre_feuilles(arbre.left) + nombre_feuilles(arbre.right)\n",
    "\n",
    "print(nombre_feuilles(B_quid)) # 6"
   ],
   "id": "dfcf9ed6ddc236a2",
   "outputs": [
    {
     "name": "stdout",
     "output_type": "stream",
     "text": [
      "6\n"
     ]
    }
   ],
   "execution_count": 74
  },
  {
   "metadata": {},
   "cell_type": "markdown",
   "source": "#### 4. Longueur de cheminement",
   "id": "31f8fcc67d12e62e"
  },
  {
   "metadata": {
    "ExecuteTime": {
     "end_time": "2025-02-04T12:43:31.763660Z",
     "start_time": "2025-02-04T12:43:31.759668Z"
    }
   },
   "cell_type": "code",
   "source": [
    "def longueur_cheminement(arbre : BinTree, noeud : BinTree, profondeur : int = 0):\n",
    "    if arbre is None:\n",
    "        return -1\n",
    "\n",
    "    if arbre == noeud:\n",
    "        return profondeur\n",
    "\n",
    "    profondeur_gauche = longueur_cheminement(arbre.left, noeud, profondeur + 1)\n",
    "    if profondeur_gauche != -1:\n",
    "        return profondeur_gauche\n",
    "\n",
    "    return longueur_cheminement(arbre.right, noeud, profondeur + 1)\n",
    "print(longueur_cheminement(B_quid,B_quid.left.left))\n"
   ],
   "id": "764131be14b62e62",
   "outputs": [
    {
     "name": "stdout",
     "output_type": "stream",
     "text": [
      "2\n"
     ]
    }
   ],
   "execution_count": 82
  },
  {
   "metadata": {
    "ExecuteTime": {
     "end_time": "2025-02-04T13:00:05.999919Z",
     "start_time": "2025-02-04T13:00:05.995927Z"
    }
   },
   "cell_type": "code",
   "source": [
    "def longueur_cheminement_total(arbre: BinTree,profondeur: int = 0, ):\n",
    "    if arbre is None:\n",
    "        return 0\n",
    "    return  profondeur+longueur_cheminement_total(arbre.left,profondeur+1) + longueur_cheminement_total(arbre.right,profondeur+1)\n",
    "\n",
    "print(longueur_cheminement_total(B_quid)) #"
   ],
   "id": "2b08fc98f724e848",
   "outputs": [
    {
     "name": "stdout",
     "output_type": "stream",
     "text": [
      "32\n"
     ]
    }
   ],
   "execution_count": 102
  },
  {
   "metadata": {},
   "cell_type": "markdown",
   "source": [
    "## Parcours\n",
    "\n",
    "### 2.1 (DFS : Parcours profondeur)\n",
    "\n",
    "#### 1. En considérant un parcours en profondeur main gauche de l’arbre de la figure  donner la liste des nœuds pour chacun des trois ordres induits.\n",
    "\n",
    "- Préfixe : VDIQUSETIERATS\n",
    "- Infixe :  QUID EST VERITAS\n",
    "- Suffixe : UQIETSDRETSAIV\n",
    "\n",
    "#### 2. Écrire une fonction qui affiche un arbre binaire sous la forme <r, G, D>, avec _ pour représenter l’arbre vide.\n",
    "\n",
    "< V, < D, < I, < Q, _, < U, _, _ > > _ >, < S, < E, _, _ >, < T, _, _ > >, < I, < E, _, < R, _, _ > >, < A, < T, _, _ >, < S, _, _ > > > >\n",
    "\n",
    "#### 3. Écrire une fonction qui affiche un arbre binaire sous la forme <r, G, D>, avec _ pour représenter l’arbre vide."
   ],
   "id": "d558059bd3e91cf5"
  },
  {
   "metadata": {
    "ExecuteTime": {
     "end_time": "2025-02-04T12:42:19.936359Z",
     "start_time": "2025-02-04T12:42:19.933353Z"
    }
   },
   "cell_type": "code",
   "source": [
    "def affichage(arbre : BinTree):\n",
    "    if arbre:\n",
    "        return f\"< {arbre.key},{affichage(arbre.left)},{affichage(arbre.right)} >\"\n",
    "    else:\n",
    "        return \" _\"\n",
    "print(affichage(B_quid))\n",
    "# < V,< D,< I,< Q,_,< U,_,_ > >,_ >,< S,< E,_,_ >,< T,_,_ > > >,< I,< E,_,< R,_,_ > >,< A,< T,_,_ >,< S,_,_ > > > >"
   ],
   "id": "ae5f182dd591fa8f",
   "outputs": [
    {
     "name": "stdout",
     "output_type": "stream",
     "text": [
      "< V,< D,< I,< Q, _,< U, _, _ > >, _ >,< S,< E, _, _ >,< T, _, _ > > >,< I,< E, _,< R, _, _ > >,< A,< T, _, _ >,< S, _, _ > > > >\n"
     ]
    }
   ],
   "execution_count": 77
  },
  {
   "metadata": {},
   "cell_type": "markdown",
   "source": [
    "### Exercice 2.2 (BFS : Parcours largeur)\n",
    "\n",
    "#### 1. Dérouler l’algorithme du parcours largeur sur l’arbre de la figure.\n",
    "\n",
    "V D I I S E A Q E T R T S U\n",
    "\n",
    "#### 2. Écrire une fonction qui affiche les clés d’un arbre binaire en ordre hiérarchique. Que faut-il modifier pour afficher un niveau par ligne ?\n"
   ],
   "id": "37e444b102b59c8d"
  },
  {
   "metadata": {
    "ExecuteTime": {
     "end_time": "2025-02-04T12:42:19.954793Z",
     "start_time": "2025-02-04T12:42:19.952022Z"
    }
   },
   "cell_type": "code",
   "source": [
    "def cles_arbres_hierachique(arbre: BinTree):\n",
    "    if not arbre:\n",
    "        return []\n",
    "\n",
    "    resultat = []\n",
    "    q = queue.Queue()\n",
    "    q.enqueue(arbre)\n",
    "\n",
    "    while not q.isempty():\n",
    "        noeud = q.dequeue()\n",
    "        resultat.append(noeud.key)\n",
    "        if noeud.left:\n",
    "            q.enqueue(noeud.left)\n",
    "        if noeud.right:\n",
    "            q.enqueue(noeud.right)\n",
    "    return resultat\n",
    "\n",
    "print(cles_arbres_hierachique(B_quid))\n",
    "# ['V', 'D', 'I', 'I', 'S', 'E', 'A', 'Q', 'E', 'T', 'R', 'T', 'S', 'U']"
   ],
   "id": "2c85e21326f7d5e2",
   "outputs": [
    {
     "name": "stdout",
     "output_type": "stream",
     "text": [
      "['V', 'D', 'I', 'I', 'S', 'E', 'A', 'Q', 'E', 'T', 'R', 'T', 'S', 'U']\n"
     ]
    }
   ],
   "execution_count": 78
  },
  {
   "metadata": {},
   "cell_type": "markdown",
   "source": "Que faut-il modifier pour afficher un niveau par ligne ?",
   "id": "bdd627c120053936"
  },
  {
   "metadata": {
    "ExecuteTime": {
     "end_time": "2025-02-04T12:42:19.972197Z",
     "start_time": "2025-02-04T12:42:19.969350Z"
    }
   },
   "cell_type": "code",
   "source": [
    "def cles_arbres_par_niveau(arbre: BinTree):\n",
    "    if not arbre:\n",
    "        return []\n",
    "\n",
    "    resultat = []\n",
    "    q = queue.Queue()\n",
    "    q.enqueue(arbre)\n",
    "\n",
    "    while not q.isempty():\n",
    "        niveau = []\n",
    "        taille_niveau = len(q.elements)\n",
    "\n",
    "        for _ in range(taille_niveau):\n",
    "            noeud = q.dequeue()\n",
    "            niveau.append(noeud.key)\n",
    "            if noeud.left:\n",
    "                q.enqueue(noeud.left)\n",
    "            if noeud.right:\n",
    "                q.enqueue(noeud.right)\n",
    "        resultat.append(niveau)\n",
    "\n",
    "    return resultat\n",
    "\n",
    "print(cles_arbres_par_niveau(A_quid))\n",
    "# [['V'], ['D', 'I'], ['I', 'S', 'E', 'A'], ['Q', 'E', 'T', 'R', 'T', 'S'], ['U']]"
   ],
   "id": "d1e241b6f7d11ba1",
   "outputs": [
    {
     "name": "stdout",
     "output_type": "stream",
     "text": [
      "[['A'], ['B', 'E'], ['C', 'D']]\n"
     ]
    }
   ],
   "execution_count": 79
  },
  {
   "metadata": {
    "ExecuteTime": {
     "end_time": "2025-02-04T13:13:03.312650Z",
     "start_time": "2025-02-04T13:13:03.306211Z"
    }
   },
   "cell_type": "code",
   "source": [
    "def nb_noeuds_par_niveau(arbre: BinTree):\n",
    "    arbre = cles_arbres_par_niveau(arbre)\n",
    "    nb_noeuds = []\n",
    "    for niveau in arbre:\n",
    "        nb_noeuds.append(len(niveau))\n",
    "    return nb_noeuds\n",
    "\n",
    "print(nb_noeuds_par_niveau(B_quid))\n"
   ],
   "id": "c7957c6b3cc29a00",
   "outputs": [
    {
     "name": "stdout",
     "output_type": "stream",
     "text": [
      "[1, 2, 4, 6, 1]\n"
     ]
    }
   ],
   "execution_count": 105
  }
 ],
 "metadata": {
  "kernelspec": {
   "display_name": "Python 3",
   "language": "python",
   "name": "python3"
  },
  "language_info": {
   "codemirror_mode": {
    "name": "ipython",
    "version": 2
   },
   "file_extension": ".py",
   "mimetype": "text/x-python",
   "name": "python",
   "nbconvert_exporter": "python",
   "pygments_lexer": "ipython2",
   "version": "2.7.6"
  }
 },
 "nbformat": 4,
 "nbformat_minor": 5
}
