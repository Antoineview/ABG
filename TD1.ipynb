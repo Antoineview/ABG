{
 "cells": [
  {
   "cell_type": "markdown",
   "id": "e4b755e1d158e845",
   "metadata": {},
   "source": [
    "# Arbres Binaires et Généraux\n",
    "\n",
    "- L’arbre non vide est (une référence sur) un objet de la class BinTree avec 3 attributs : key, left, right.\n",
    "- L’arbre vide est None."
   ]
  },
  {
   "cell_type": "code",
   "id": "824bb82292bfb901",
   "metadata": {
    "ExecuteTime": {
     "end_time": "2025-02-17T13:31:56.326879Z",
     "start_time": "2025-02-17T13:31:56.323810Z"
    }
   },
   "source": [
    "from algo_py import queue\n",
    "from algo_py.bintree import BinTree # to allow to use BinTree instead of bintree.BinTree"
   ],
   "outputs": [],
   "execution_count": 153
  },
  {
   "cell_type": "code",
   "id": "c908194b3161bfb6",
   "metadata": {
    "ExecuteTime": {
     "end_time": "2025-02-17T13:31:56.341208Z",
     "start_time": "2025-02-17T13:31:56.336602Z"
    }
   },
   "source": [
    "#Figure 1\n",
    "B_quid = BinTree('V',\n",
    "                BinTree('D',\n",
    "                   BinTree('I',\n",
    "                      BinTree('Q', None,BinTree('U', None,None)),\n",
    "                      None),\n",
    "                   BinTree('S',\n",
    "                      BinTree('E', None,None),\n",
    "                      BinTree('T', None,None))),\n",
    "                BinTree('I',\n",
    "                   BinTree('E',\n",
    "                      None,\n",
    "                      BinTree('R', None,None)),\n",
    "                  BinTree('A',\n",
    "                      BinTree('T', None,None),\n",
    "                      BinTree('S', None,None))))\n",
    "\n",
    "A_quid = BinTree('@',\n",
    "                BinTree('A',None,None),\n",
    "                BinTree('@',BinTree('@',BinTree('U',None,None),BinTree('N',None,None)),BinTree('@',BinTree('@',BinTree('G',None,None),BinTree('M',None,None)),BinTree('H',None,None))))\n",
    "P_quid = BinTree('A',BinTree('B',None,None),BinTree('C',None,None))\n"
   ],
   "outputs": [],
   "execution_count": 154
  },
  {
   "cell_type": "markdown",
   "id": "8a77807f92f26ee",
   "metadata": {},
   "source": [
    "\n",
    "## 1. Mesures\n",
    "\n",
    "### 1.1 (Taille)\n",
    "\n",
    "#### 1. Donner les axiomes définissant l’opération taille sur le type abstrait arbre binaire.\n",
    "\n",
    "- taille(arbrevide) = 0\n",
    "- taille(<r,G,D>) = 1 + taille(G) taille(D)\n",
    "#### 2. Écrire une fonction qui calcule la taille d’un arbre binaire."
   ]
  },
  {
   "cell_type": "code",
   "id": "cf86c0eb598fc61",
   "metadata": {
    "ExecuteTime": {
     "end_time": "2025-02-17T13:31:56.350393Z",
     "start_time": "2025-02-17T13:31:56.347919Z"
    }
   },
   "source": [
    "def taille(arbre : BinTree):\n",
    "    if arbre:\n",
    "        return 1 + taille(arbre.left) + taille(arbre.right)\n",
    "    else:\n",
    "        return 0\n",
    "\n",
    "print(taille(B_quid))"
   ],
   "outputs": [
    {
     "name": "stdout",
     "output_type": "stream",
     "text": [
      "14\n"
     ]
    }
   ],
   "execution_count": 155
  },
  {
   "cell_type": "markdown",
   "id": "9f35870f0b2f0508",
   "metadata": {},
   "source": [
    "### 1.2 (Hauteur)\n",
    "#### 1. Donner les axiomes définissant l’opération hauteur sur le type abstrait arbre binaire.\n",
    "\n",
    "#### 2. Écrire une fonction qui calcule la hauteur d’un arbre binaire."
   ]
  },
  {
   "cell_type": "code",
   "id": "4bc25b49499a409c",
   "metadata": {
    "ExecuteTime": {
     "end_time": "2025-02-17T13:31:56.378123Z",
     "start_time": "2025-02-17T13:31:56.375997Z"
    }
   },
   "source": [
    "def hauteur(arbre : BinTree):\n",
    "    if arbre:\n",
    "        return 1 + max(hauteur(arbre.left), hauteur(arbre.right))\n",
    "    else:\n",
    "        return -1\n",
    "\n",
    "print(hauteur(B_quid)) # 4"
   ],
   "outputs": [
    {
     "name": "stdout",
     "output_type": "stream",
     "text": [
      "4\n"
     ]
    }
   ],
   "execution_count": 156
  },
  {
   "cell_type": "markdown",
   "id": "3893e1b8058342ea",
   "metadata": {},
   "source": [
    "### 1.3 Exos Bonus\n",
    "#### 1. Nombre de nœuds simples"
   ]
  },
  {
   "cell_type": "code",
   "id": "c3aceccc05e48270",
   "metadata": {
    "ExecuteTime": {
     "end_time": "2025-02-17T13:31:56.405121Z",
     "start_time": "2025-02-17T13:31:56.402505Z"
    }
   },
   "source": [
    "def nombre_noeuds_simples(arbre : BinTree):\n",
    "    if arbre is None:\n",
    "        return 0\n",
    "\n",
    "    simple = 0\n",
    "    if (arbre.left is not None and arbre.right is None) or (arbre.left is None and arbre.right is not None):\n",
    "        simple = 1\n",
    "\n",
    "    return simple + nombre_noeuds_simples(arbre.left) + nombre_noeuds_simples(arbre.right)\n",
    "\n",
    "print(nombre_noeuds_simples(B_quid)) # 3"
   ],
   "outputs": [
    {
     "name": "stdout",
     "output_type": "stream",
     "text": [
      "3\n"
     ]
    }
   ],
   "execution_count": 157
  },
  {
   "cell_type": "markdown",
   "id": "f03885fbe8738440",
   "metadata": {},
   "source": [
    "#### 2. Nombre de noeuds doubles"
   ]
  },
  {
   "cell_type": "code",
   "id": "da285ff266bbfe32",
   "metadata": {
    "ExecuteTime": {
     "end_time": "2025-02-17T13:31:56.431386Z",
     "start_time": "2025-02-17T13:31:56.428956Z"
    }
   },
   "source": [
    "def nombre_noeuds_doubles(arbre : BinTree):\n",
    "    if arbre is None:\n",
    "        return 0\n",
    "\n",
    "    double = 0\n",
    "    if arbre.left is not None and arbre.right is not None :\n",
    "        double = 1\n",
    "\n",
    "    return double + nombre_noeuds_doubles(arbre.left) + nombre_noeuds_doubles(arbre.right)\n",
    "\n",
    "print(nombre_noeuds_doubles(B_quid)) # 5"
   ],
   "outputs": [
    {
     "name": "stdout",
     "output_type": "stream",
     "text": [
      "5\n"
     ]
    }
   ],
   "execution_count": 158
  },
  {
   "cell_type": "markdown",
   "id": "ad6bfef01f47a069",
   "metadata": {},
   "source": [
    "#### 3. Nombre de feuilles"
   ]
  },
  {
   "cell_type": "code",
   "id": "dfcf9ed6ddc236a2",
   "metadata": {
    "ExecuteTime": {
     "end_time": "2025-02-17T13:31:56.454899Z",
     "start_time": "2025-02-17T13:31:56.452910Z"
    }
   },
   "source": [
    "def nombre_feuilles(arbre : BinTree):\n",
    "    if arbre is None:\n",
    "        return 0\n",
    "\n",
    "    feuille = 0\n",
    "    if arbre.left is None and arbre.right is None:\n",
    "        feuille = 1\n",
    "\n",
    "    return feuille + nombre_feuilles(arbre.left) + nombre_feuilles(arbre.right)\n",
    "\n",
    "print(nombre_feuilles(B_quid)) # 6"
   ],
   "outputs": [
    {
     "name": "stdout",
     "output_type": "stream",
     "text": [
      "6\n"
     ]
    }
   ],
   "execution_count": 159
  },
  {
   "cell_type": "markdown",
   "id": "31f8fcc67d12e62e",
   "metadata": {},
   "source": [
    "#### 4. Longueur de cheminement"
   ]
  },
  {
   "cell_type": "code",
   "id": "764131be14b62e62",
   "metadata": {
    "ExecuteTime": {
     "end_time": "2025-02-17T13:31:56.472496Z",
     "start_time": "2025-02-17T13:31:56.470296Z"
    }
   },
   "source": [
    "def longueur_cheminement(arbre : BinTree, noeud : BinTree, profondeur : int = 0):\n",
    "    if arbre is None:\n",
    "        return -1\n",
    "\n",
    "    if arbre == noeud:\n",
    "        return profondeur\n",
    "\n",
    "    profondeur_gauche = longueur_cheminement(arbre.left, noeud, profondeur + 1)\n",
    "    if profondeur_gauche != -1:\n",
    "        return profondeur_gauche\n",
    "\n",
    "    return longueur_cheminement(arbre.right, noeud, profondeur + 1)\n",
    "print(longueur_cheminement(B_quid,B_quid.left.left))\n"
   ],
   "outputs": [
    {
     "name": "stdout",
     "output_type": "stream",
     "text": [
      "2\n"
     ]
    }
   ],
   "execution_count": 160
  },
  {
   "cell_type": "code",
   "id": "39c16f3a9b2214f4",
   "metadata": {
    "ExecuteTime": {
     "end_time": "2025-02-17T13:31:56.493570Z",
     "start_time": "2025-02-17T13:31:56.490609Z"
    }
   },
   "source": [
    "def helper(arbre, profondeur):\n",
    "        if arbre is None:\n",
    "            return 0, 0  #\n",
    "        somme_gauche, noeuds_gauche = helper(arbre.left, profondeur + 1)\n",
    "        somme_droite, noeuds_droite = helper(arbre.right, profondeur + 1)\n",
    "        return somme_gauche + somme_droite + profondeur, noeuds_gauche + noeuds_droite + 1\n",
    "\n",
    "def profondeur_moyenne(arbre: BinTree):\n",
    "\n",
    "    somme, noeuds = helper(arbre, 0)\n",
    "    return somme / noeuds if noeuds > 0 else 0\n",
    "\n",
    "print(profondeur_moyenne(B_quid)) "
   ],
   "outputs": [
    {
     "name": "stdout",
     "output_type": "stream",
     "text": [
      "2.2857142857142856\n"
     ]
    }
   ],
   "execution_count": 161
  },
  {
   "cell_type": "code",
   "id": "2b08fc98f724e848",
   "metadata": {
    "ExecuteTime": {
     "end_time": "2025-02-17T13:31:56.516910Z",
     "start_time": "2025-02-17T13:31:56.514872Z"
    }
   },
   "source": [
    "def longueur_cheminement_total(arbre: BinTree,profondeur: int = 0, ):\n",
    "    if arbre is None:\n",
    "        return 0\n",
    "    return  profondeur+longueur_cheminement_total(arbre.left,profondeur+1) + longueur_cheminement_total(arbre.right,profondeur+1)\n",
    "\n",
    "print(longueur_cheminement_total(B_quid)) #"
   ],
   "outputs": [
    {
     "name": "stdout",
     "output_type": "stream",
     "text": [
      "32\n"
     ]
    }
   ],
   "execution_count": 162
  },
  {
   "cell_type": "markdown",
   "id": "d558059bd3e91cf5",
   "metadata": {},
   "source": [
    "## Parcours\n",
    "\n",
    "### 2.1 (DFS : Parcours profondeur)\n",
    "\n",
    "#### 1. En considérant un parcours en profondeur main gauche de l’arbre de la figure  donner la liste des nœuds pour chacun des trois ordres induits.\n",
    "\n",
    "- Préfixe : VDIQUSETIERATS\n",
    "- Infixe :  QUID EST VERITAS\n",
    "- Suffixe : UQIETSDRETSAIV\n",
    "\n",
    "#### 2. Écrire une fonction qui affiche un arbre binaire sous la forme <r, G, D>, avec _ pour représenter l’arbre vide.\n",
    "\n",
    "< V, < D, < I, < Q, _, < U, _, _ > > _ >, < S, < E, _, _ >, < T, _, _ > >, < I, < E, _, < R, _, _ > >, < A, < T, _, _ >, < S, _, _ > > > >\n",
    "\n",
    "#### 3. Écrire une fonction qui affiche un arbre binaire sous la forme <r, G, D>, avec _ pour représenter l’arbre vide."
   ]
  },
  {
   "cell_type": "code",
   "id": "ae5f182dd591fa8f",
   "metadata": {
    "ExecuteTime": {
     "end_time": "2025-02-17T13:31:56.543514Z",
     "start_time": "2025-02-17T13:31:56.541264Z"
    }
   },
   "source": [
    "def affichage(arbre : BinTree):\n",
    "    if arbre:\n",
    "        return f\"< {arbre.key},{affichage(arbre.left)},{affichage(arbre.right)} >\"\n",
    "    else:\n",
    "        return \" _\"\n",
    "print(affichage(B_quid))\n",
    "# < V,< D,< I,< Q,_,< U,_,_ > >,_ >,< S,< E,_,_ >,< T,_,_ > > >,< I,< E,_,< R,_,_ > >,< A,< T,_,_ >,< S,_,_ > > > >"
   ],
   "outputs": [
    {
     "name": "stdout",
     "output_type": "stream",
     "text": [
      "< V,< D,< I,< Q, _,< U, _, _ > >, _ >,< S,< E, _, _ >,< T, _, _ > > >,< I,< E, _,< R, _, _ > >,< A,< T, _, _ >,< S, _, _ > > > >\n"
     ]
    }
   ],
   "execution_count": 163
  },
  {
   "cell_type": "markdown",
   "id": "37e444b102b59c8d",
   "metadata": {},
   "source": [
    "### Exercice 2.2 (BFS : Parcours largeur)\n",
    "\n",
    "#### 1. Dérouler l’algorithme du parcours largeur sur l’arbre de la figure.\n",
    "\n",
    "V D I I S E A Q E T R T S U\n",
    "\n",
    "#### 2. Écrire une fonction qui affiche les clés d’un arbre binaire en ordre hiérarchique. Que faut-il modifier pour afficher un niveau par ligne ?\n"
   ]
  },
  {
   "cell_type": "code",
   "id": "2c85e21326f7d5e2",
   "metadata": {
    "ExecuteTime": {
     "end_time": "2025-02-17T13:31:56.566191Z",
     "start_time": "2025-02-17T13:31:56.563788Z"
    }
   },
   "source": [
    "def cles_arbres_hierachique(arbre: BinTree):\n",
    "    if not arbre:\n",
    "        return []\n",
    "\n",
    "    resultat = []\n",
    "    q = queue.Queue()\n",
    "    q.enqueue(arbre)\n",
    "\n",
    "    while not q.isempty():\n",
    "        noeud = q.dequeue()\n",
    "        resultat.append(noeud.key)\n",
    "        if noeud.left:\n",
    "            q.enqueue(noeud.left)\n",
    "        if noeud.right:\n",
    "            q.enqueue(noeud.right)\n",
    "    return resultat\n",
    "\n",
    "print(cles_arbres_hierachique(B_quid))\n",
    "# ['V', 'D', 'I', 'I', 'S', 'E', 'A', 'Q', 'E', 'T', 'R', 'T', 'S', 'U']"
   ],
   "outputs": [
    {
     "name": "stdout",
     "output_type": "stream",
     "text": [
      "['V', 'D', 'I', 'I', 'S', 'E', 'A', 'Q', 'E', 'T', 'R', 'T', 'S', 'U']\n"
     ]
    }
   ],
   "execution_count": 164
  },
  {
   "cell_type": "markdown",
   "id": "bdd627c120053936",
   "metadata": {},
   "source": [
    "Que faut-il modifier pour afficher un niveau par ligne ?"
   ]
  },
  {
   "cell_type": "code",
   "id": "d1e241b6f7d11ba1",
   "metadata": {
    "ExecuteTime": {
     "end_time": "2025-02-17T13:31:56.592610Z",
     "start_time": "2025-02-17T13:31:56.589775Z"
    }
   },
   "source": [
    "def cles_arbres_par_niveau(arbre: BinTree):\n",
    "    if not arbre:\n",
    "        return []\n",
    "\n",
    "    resultat = []\n",
    "    q = queue.Queue()\n",
    "    q.enqueue(arbre)\n",
    "\n",
    "    while not q.isempty():\n",
    "        niveau = []\n",
    "        taille_niveau = len(q.elements)\n",
    "\n",
    "        for _ in range(taille_niveau):\n",
    "            noeud = q.dequeue()\n",
    "            niveau.append(noeud.key)\n",
    "            if noeud.left:\n",
    "                q.enqueue(noeud.left)\n",
    "            if noeud.right:\n",
    "                q.enqueue(noeud.right)\n",
    "        resultat.append(niveau)\n",
    "\n",
    "    return resultat\n",
    "\n",
    "print(cles_arbres_par_niveau(A_quid))\n",
    "# [['V'], ['D', 'I'], ['I', 'S', 'E', 'A'], ['Q', 'E', 'T', 'R', 'T', 'S'], ['U']]"
   ],
   "outputs": [
    {
     "name": "stdout",
     "output_type": "stream",
     "text": [
      "[['@'], ['A', '@'], ['@', '@'], ['U', 'N', '@', 'H'], ['G', 'M']]\n"
     ]
    }
   ],
   "execution_count": 165
  },
  {
   "cell_type": "code",
   "id": "c7957c6b3cc29a00",
   "metadata": {
    "ExecuteTime": {
     "end_time": "2025-02-17T13:31:56.614723Z",
     "start_time": "2025-02-17T13:31:56.612709Z"
    }
   },
   "source": [
    "def nb_noeuds_par_niveau(arbre: BinTree):\n",
    "    arbre = cles_arbres_par_niveau(arbre)\n",
    "    nb_noeuds = []\n",
    "    for niveau in arbre:\n",
    "        nb_noeuds.append(len(niveau))\n",
    "    return nb_noeuds\n",
    "\n",
    "print(nb_noeuds_par_niveau(B_quid))\n"
   ],
   "outputs": [
    {
     "name": "stdout",
     "output_type": "stream",
     "text": [
      "[1, 2, 4, 6, 1]\n"
     ]
    }
   ],
   "execution_count": 166
  },
  {
   "metadata": {},
   "cell_type": "markdown",
   "source": "### Exercice 3.1 (Sérialisation)",
   "id": "4cdd8b3bd96eeaf5"
  },
  {
   "metadata": {
    "ExecuteTime": {
     "end_time": "2025-02-17T13:31:56.641129Z",
     "start_time": "2025-02-17T13:31:56.638767Z"
    }
   },
   "cell_type": "code",
   "source": [
    "def to_linear(B):\n",
    "    if (B == None):\n",
    "        return ()\n",
    "    return \"(\"+B.key + to_linear(B.left)+ to_linear(B.right) +\")\""
   ],
   "id": "c7fcc4dd63d13d13",
   "outputs": [],
   "execution_count": 167
  },
  {
   "metadata": {},
   "cell_type": "markdown",
   "source": "#### 3.2.1\n",
   "id": "f4d8c84c3d850b97"
  },
  {
   "metadata": {},
   "cell_type": "markdown",
   "source": "longueur cheminement = nb",
   "id": "63292439da5a4925"
  },
  {
   "metadata": {
    "ExecuteTime": {
     "end_time": "2025-02-17T13:31:56.653010Z",
     "start_time": "2025-02-17T13:31:56.650395Z"
    }
   },
   "cell_type": "code",
   "source": [
    "def profondeur_moyenne_arbre(arbre: BinTree):\n",
    "    j, i, taille, LC = 0, 0, 0, 0\n",
    "    q = queue.Queue()\n",
    "    q.enqueue(arbre)\n",
    "    q.enqueue(None)\n",
    "    while not q.isempty():\n",
    "        e = q.dequeue()\n",
    "        if e is None:\n",
    "            j += i\n",
    "            taille += i\n",
    "            i = 0\n",
    "            LC += j\n",
    "            if not q.isempty():\n",
    "                q.enqueue(None)\n",
    "        else:\n",
    "            i += 1\n",
    "            if e.left:\n",
    "                q.enqueue(e.left)\n",
    "            if e.right:\n",
    "                q.enqueue(e.right)\n",
    "    return LC / taille"
   ],
   "id": "71264b4092dae112",
   "outputs": [],
   "execution_count": 168
  },
  {
   "metadata": {
    "ExecuteTime": {
     "end_time": "2025-02-17T13:31:56.657927Z",
     "start_time": "2025-02-17T13:31:56.655844Z"
    }
   },
   "cell_type": "code",
   "source": [
    "def autre_profondeur_moyenne_arbre(arbre: BinTree, level : int = 0):\n",
    "    if arbre == None:\n",
    "        return level -1\n",
    "    return (\n",
    "            level+\n",
    "            autre_profondeur_moyenne_arbre(arbre.left,level+1)+\n",
    "            autre_profondeur_moyenne_arbre(arbre.right,level+1)\n",
    "    )"
   ],
   "id": "9c59c29ead331c52",
   "outputs": [],
   "execution_count": 169
  },
  {
   "metadata": {
    "ExecuteTime": {
     "end_time": "2025-02-17T13:31:56.666951Z",
     "start_time": "2025-02-17T13:31:56.664078Z"
    }
   },
   "cell_type": "code",
   "source": [
    "def code_liste(A,L=[],c= \"\"):\n",
    "    if (A!= None):\n",
    "        if (A.left == None and A.right == None):\n",
    "            L.append((A.key,c))\n",
    "            return L\n",
    "        code_liste(A.left,L,c+\"0\")\n",
    "        code_liste(A.right,L,c+\"1\")\n",
    "    return L\n",
    "\n",
    "print(code_liste(A_quid))"
   ],
   "id": "11df349ba2fefea3",
   "outputs": [
    {
     "name": "stdout",
     "output_type": "stream",
     "text": [
      "[('A', '0'), ('U', '100'), ('N', '101'), ('G', '1100'), ('M', '1101'), ('H', '111')]\n"
     ]
    }
   ],
   "execution_count": 170
  },
  {
   "metadata": {
    "ExecuteTime": {
     "end_time": "2025-02-17T13:31:56.688374Z",
     "start_time": "2025-02-17T13:31:56.686118Z"
    }
   },
   "cell_type": "code",
   "source": [
    "def search_code(T, c, code=\"\"):\n",
    "    if T is None:\n",
    "        return None\n",
    "    if T.key == c:\n",
    "        return code\n",
    "    left_code = search_code(T.left, c, code + \"0\")\n",
    "    if left_code is not None:\n",
    "        return left_code\n",
    "    return search_code(T.right, c, code + \"1\")\n",
    "\n",
    "print(search_code(A_quid, 'I'))"
   ],
   "id": "11ca87677117d834",
   "outputs": [
    {
     "name": "stdout",
     "output_type": "stream",
     "text": [
      "None\n"
     ]
    }
   ],
   "execution_count": 171
  },
  {
   "metadata": {
    "ExecuteTime": {
     "end_time": "2025-02-17T13:31:56.712189Z",
     "start_time": "2025-02-17T13:31:56.710423Z"
    }
   },
   "cell_type": "code",
   "source": [
    "def filiforme(arbre: BinTree) -> bool:\n",
    "    print(\"TODO\")\n"
   ],
   "id": "70050a50a7945ad6",
   "outputs": [],
   "execution_count": 172
  },
  {
   "metadata": {
    "ExecuteTime": {
     "end_time": "2025-02-17T13:31:56.719129Z",
     "start_time": "2025-02-17T13:31:56.717023Z"
    }
   },
   "cell_type": "code",
   "source": [
    "def est_complet_avec_hauteur(arbre: BinTree, hauteur: int, niveau: int = 0) -> bool:\n",
    "    if arbre.left and arbre.right:\n",
    "        return (est_complet_avec_hauteur(arbre.left, hauteur, niveau + 1)\n",
    "                and est_complet_avec_hauteur(arbre.right, hauteur, niveau + 1))\n",
    "    if niveau == hauteur - 1:\n",
    "        return arbre.left == None and arbre.right == None\n",
    "\n",
    "    return False\n",
    "\n"
   ],
   "id": "f5e40905fe618af0",
   "outputs": [],
   "execution_count": 173
  },
  {
   "metadata": {
    "ExecuteTime": {
     "end_time": "2025-02-17T13:31:56.726619Z",
     "start_time": "2025-02-17T13:31:56.724143Z"
    }
   },
   "cell_type": "code",
   "source": [
    "\n",
    "\n",
    "def est_complet(arbre: BinTree) -> bool:\n",
    "    def helper(arbre, index, noeuds_totaux):\n",
    "        if arbre is None:\n",
    "            return True\n",
    "        if index >= noeuds_totaux:\n",
    "            return False\n",
    "        return helper(arbre.left, 2 * index + 1, noeuds_totaux) and helper(arbre.right, 2 * index + 2, noeuds_totaux)\n",
    "\n",
    "    noeuds_totaux = taille(arbre)\n",
    "    return helper(arbre, 0, noeuds_totaux)"
   ],
   "id": "dc29dd65fa092f4e",
   "outputs": [],
   "execution_count": 174
  },
  {
   "metadata": {
    "ExecuteTime": {
     "end_time": "2025-02-17T13:32:02.451388Z",
     "start_time": "2025-02-17T13:32:02.448125Z"
    }
   },
   "cell_type": "code",
   "source": [
    "def check_child(arbre: BinTree) -> bool:\n",
    "    if arbre.left == None or arbre.right == None:\n",
    "        return False\n",
    "    return True\n",
    "def est_parfait(arbre: BinTree) -> bool:\n",
    "    q = queue.Queue();\n",
    "    q.enqueue(arbre)\n",
    "    nochild = False\n",
    "    perfect = True;\n",
    "    while not q.isempty():\n",
    "        b = q.dequeue()\n",
    "        if b!= None :\n",
    "            if check_child(b):\n",
    "                if nochild:\n",
    "                    q = queue.Queue();\n",
    "                    perfect = False;\n",
    "                else:\n",
    "                    q.enqueue(arbre.left)\n",
    "                    q.enqueue(arbre.right)\n",
    "            else:\n",
    "                nochild = True\n",
    "    return perfect\n",
    "\n",
    "print(est_parfait(P_quid))\n"
   ],
   "id": "601bbc5e0f0a4980",
   "outputs": [
    {
     "name": "stdout",
     "output_type": "stream",
     "text": [
      "True\n"
     ]
    }
   ],
   "execution_count": 178
  },
  {
   "metadata": {
    "ExecuteTime": {
     "end_time": "2025-02-17T13:51:35.276970Z",
     "start_time": "2025-02-17T13:51:35.273948Z"
    }
   },
   "cell_type": "code",
   "source": [
    "arbre = BinTree(0,BinTree(1,None,None),BinTree(2,None,None))\n",
    "print(affichage(arbre))\n",
    "def transpose(arbre: BinTree):\n",
    "    if arbre != None:\n",
    "        return BinTree(2*arbre.key,transpose(arbre.right),transpose(arbre.left))\n",
    "    return None\n",
    "print(affichage(transpose(arbre)))\n"
   ],
   "id": "6a02160d0926beb2",
   "outputs": [
    {
     "name": "stdout",
     "output_type": "stream",
     "text": [
      "< 0,< 1, _, _ >,< 2, _, _ > >\n",
      "< 0,< 4, _, _ >,< 2, _, _ > >\n"
     ]
    }
   ],
   "execution_count": 186
  }
 ],
 "metadata": {
  "kernelspec": {
   "display_name": "Python 3 (ipykernel)",
   "language": "python",
   "name": "python3"
  },
  "language_info": {
   "codemirror_mode": {
    "name": "ipython",
    "version": 3
   },
   "file_extension": ".py",
   "mimetype": "text/x-python",
   "name": "python",
   "nbconvert_exporter": "python",
   "pygments_lexer": "ipython3",
   "version": "3.13.1"
  }
 },
 "nbformat": 4,
 "nbformat_minor": 5
}
